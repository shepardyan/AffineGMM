{
 "cells": [
  {
   "cell_type": "code",
   "execution_count": 1,
   "metadata": {
    "collapsed": true,
    "ExecuteTime": {
     "end_time": "2023-05-08T11:22:36.841082300Z",
     "start_time": "2023-05-08T11:22:33.108140700Z"
    }
   },
   "outputs": [],
   "source": [
    "import scipy.sparse\n",
    "from pypower.api import case118, makeBdc, makeSbus, ext2int, bustypes, rundcpf, int2ext, ppoption\n",
    "from pandapower.networks import case2869pegase, case39\n",
    "import pandapower.converter as pc\n",
    "from AffineGMM import GMM\n",
    "import numpy as np\n",
    "import matplotlib.pyplot as plt\n",
    "from matplotlib.gridspec import GridSpec\n",
    "from pypower.idx_bus import *\n",
    "from pypower.idx_brch import *\n",
    "from pypower.idx_gen import *\n",
    "from tqdm import tqdm"
   ]
  },
  {
   "cell_type": "code",
   "execution_count": 2,
   "outputs": [
    {
     "name": "stderr",
     "output_type": "stream",
     "text": [
      "gen vm_pu > bus max_vm_pu for gens [5]. Setting bus limit for these gens.\n"
     ]
    }
   ],
   "source": [
    "ppc = case39()\n",
    "ppc = pc.to_ppc(ppc, init='flat')\n",
    "\n",
    "# ppc = ext2int(case300())\n",
    "BBUS, BF, PBUSINJ, PFINJ = makeBdc(ppc['baseMVA'], ppc['bus'], ppc['branch'])\n",
    "BBUS = BBUS.toarray()\n",
    "BF = BF.toarray()\n",
    "ref, pv, pq = bustypes(ppc['bus'], ppc['gen'])\n",
    "ref_list = ref.tolist()\n",
    "pvpq = np.r_[pv, pq]\n",
    "pv_gen = []\n",
    "for i in range(ppc['gen'].shape[0]):\n",
    "    if ppc['gen'][i, GEN_BUS] not in ref_list:\n",
    "        pv_gen.append(i)\n",
    "# Generate random load profile\n",
    "Sbus = makeSbus(ppc['baseMVA'], ppc['bus'], ppc['gen'])\n",
    "Pbus = Sbus.real\n",
    "Pbus = Pbus[pvpq]\n",
    "pv_in_pvpq = np.arange(pv.shape[0])\n",
    "pq_in_pvpq = np.arange(pv.shape[0], pvpq.shape[0])\n",
    "\n",
    "x = np.zeros((4, Pbus.shape[0], Pbus.shape[0]))\n",
    "x[0, :, :] = np.eye(Pbus.shape[0])\n",
    "x[1, :, :] = 3 * np.eye(Pbus.shape[0])\n",
    "x[2, :, :] = 10 * np.eye(Pbus.shape[0])\n",
    "x[3, :, :] = 10 * np.eye(Pbus.shape[0])\n",
    "Pload = GMM(means=np.hstack(\n",
    "    [Pbus.reshape(-1, 1), (Pbus - 0.8).reshape(-1, 1), (Pbus + 0.1).reshape(-1, 1), (Pbus + 0.55).reshape(-1, 1)]).T,\n",
    "            covariances=x,\n",
    "            weights=np.array([0.2, 0.5, 0.1, 0.2]))\n",
    "\n",
    "invBbus = np.linalg.pinv(BBUS[pvpq, :][:, pvpq])\n",
    "Pbus = Pload + (-PBUSINJ[pvpq] - ppc['bus'][pvpq, GS] / ppc['baseMVA'])\n",
    "Va = Pbus.affine(invBbus, -invBbus @ BBUS[pvpq, :][:, ref] * 0)\n",
    "Pf = Va.affine(BF[:, pvpq], PFINJ)"
   ],
   "metadata": {
    "collapsed": false,
    "ExecuteTime": {
     "end_time": "2023-05-08T11:22:37.212401Z",
     "start_time": "2023-05-08T11:22:36.844081300Z"
    }
   }
  },
  {
   "cell_type": "code",
   "execution_count": 3,
   "outputs": [
    {
     "data": {
      "text/plain": "array([[-1.78353726e+00,  8.07537264e-01,  3.33430081e+00,\n        -2.61783807e+00,  5.41153721e-01, -4.26852913e-01,\n        -1.77685781e+00, -2.68198847e+00, -5.14753735e+00,\n         3.37067955e+00,  4.48478319e+00, -3.38202054e+00,\n         2.14678319e+00,  2.97462736e-01,  2.32462736e-01,\n         3.40904283e+00,  3.09095717e+00,  3.03267946e+00,\n         3.50690985e-01, -2.84930901e+00,  2.25969099e+00,\n        -4.60000000e+00, -3.34775769e+00, -4.51242308e-01,\n         2.00685291e+00,  2.52838072e-01, -6.08775769e+00,\n         4.12242308e-01,  3.53724231e+00, -5.60000000e+00,\n         5.42161928e-01,  2.55716193e+00, -1.45365200e+00,\n        -1.95134800e+00, -3.51365200e+00, -2.50000000e+00,\n        -6.25030000e+00, -6.50000000e+00, -2.70222909e-02,\n        -5.82777091e-02,  1.72000000e+00, -6.32000000e+00,\n        -5.08000000e+00, -6.50000000e+00, -5.40000000e+00,\n        -8.30000000e+00],\n       [ 2.72003447e-02, -1.80320034e+00, -4.48419243e-02,\n         9.72042269e-01, -8.29693469e+00,  4.23209277e+00,\n        -1.39553847e+01, -1.41550017e-01, -1.96754848e+01,\n         4.92010017e+00,  8.74610018e+00,  7.42871498e+00,\n         5.60810018e+00,  4.50820034e+00,  3.64320034e+00,\n        -5.41339942e+00,  1.03133994e+01,  9.84341498e+00,\n         8.90186496e+00,  4.90186496e+00,  1.21086496e+00,\n        -1.40000000e+00, -7.50834615e-01,  1.75183462e+00,\n        -1.85209277e+00,  2.26295773e+00, -4.29083462e+00,\n         6.09165385e-01,  2.13416538e+00, -4.80000000e+00,\n         2.53204227e+00,  1.34704227e+00, -1.57012000e-01,\n        -8.47988000e-01, -3.01701200e+00, -1.70000000e+00,\n        -3.66503000e+01, -5.70000000e+00, -1.21531556e+00,\n         3.30015559e-01,  3.32000000e+00, -5.52000000e+00,\n        -4.28000000e+00, -5.70000000e+00, -4.60000000e+00,\n        -7.50000000e+00],\n       [-2.00987947e+00,  1.13387947e+00,  3.75669365e+00,\n        -3.06657311e+00,  1.64591477e+00, -1.00922112e+00,\n        -2.54541947e-01, -2.99954328e+00, -3.33154392e+00,\n         3.17700197e+00,  3.95211857e+00, -4.73336248e+00,\n         1.71411857e+00, -2.28879465e-01, -1.93879465e-01,\n         4.51184811e+00,  2.18815189e+00,  2.18133752e+00,\n        -7.18205762e-01, -3.81820576e+00,  2.39079424e+00,\n        -5.00000000e+00, -3.67237308e+00, -7.26626923e-01,\n         2.48922112e+00,  1.57311449e-03, -6.31237308e+00,\n         3.87626923e-01,  3.71262692e+00, -5.70000000e+00,\n         2.93426886e-01,  2.70842689e+00, -1.61573200e+00,\n        -2.08926800e+00, -3.57573200e+00, -2.60000000e+00,\n        -2.45030000e+00, -6.60000000e+00,  1.21514368e-01,\n        -1.06814368e-01,  1.52000000e+00, -6.42000000e+00,\n        -5.18000000e+00, -6.60000000e+00, -5.50000000e+00,\n        -8.40000000e+00],\n       [-3.02841937e+00,  2.60241937e+00,  5.65746144e+00,\n        -5.08588081e+00,  6.61733950e+00, -3.62987807e+00,\n         6.59587942e+00, -4.42853991e+00,  4.84042655e+00,\n         2.30545287e+00,  1.55512776e+00, -1.08144012e+01,\n        -2.32872239e-01, -2.59741937e+00, -2.11241937e+00,\n         9.47447188e+00, -1.87447188e+00, -1.64970121e+00,\n        -5.52824113e+00, -8.17824113e+00,  2.98075887e+00,\n        -6.80000000e+00, -5.13314231e+00, -1.96585769e+00,\n         4.65987807e+00, -1.12911919e+00, -7.32314231e+00,\n         2.76857692e-01,  4.50185769e+00, -6.15000000e+00,\n        -8.25880806e-01,  3.38911919e+00, -2.34509200e+00,\n        -2.70990800e+00, -3.85509200e+00, -3.05000000e+00,\n         1.46497000e+01, -7.05000000e+00,  7.89929331e-01,\n        -3.25229331e-01,  6.20000000e-01, -6.87000000e+00,\n        -5.63000000e+00, -7.05000000e+00, -5.95000000e+00,\n        -8.85000000e+00]])"
     },
     "execution_count": 3,
     "metadata": {},
     "output_type": "execute_result"
    }
   ],
   "source": [
    "Pf.mu"
   ],
   "metadata": {
    "collapsed": false,
    "ExecuteTime": {
     "end_time": "2023-05-08T11:22:37.255478600Z",
     "start_time": "2023-05-08T11:22:37.211400500Z"
    }
   }
  },
  {
   "cell_type": "markdown",
   "source": [],
   "metadata": {
    "collapsed": false
   }
  },
  {
   "cell_type": "code",
   "execution_count": 4,
   "outputs": [
    {
     "name": "stderr",
     "output_type": "stream",
     "text": [
      "100%|██████████| 50000/50000 [01:03<00:00, 786.49it/s]\n"
     ]
    }
   ],
   "source": [
    "# Run monte carlo simulation\n",
    "trials = 50000\n",
    "data = Pload.sample(trials)\n",
    "pf = np.zeros((trials, ppc['branch'].shape[0]))\n",
    "for i in tqdm(range(trials)):\n",
    "    ppc['bus'][pq, PD] = -data[i, pq_in_pvpq] * ppc['baseMVA']\n",
    "    ppc['bus'][pv, PD] = 0.\n",
    "    ppc['gen'][pv_gen, PG] = data[i, pv_in_pvpq] * ppc['baseMVA']\n",
    "    res = rundcpf(ppc, ppopt=ppoption(OUT_ALL=0, VERBOSE=0))\n",
    "    pf[i, :] = res[0]['branch'][:, PF]\n",
    "pf /= ppc['baseMVA']"
   ],
   "metadata": {
    "collapsed": false,
    "ExecuteTime": {
     "end_time": "2023-05-08T11:23:40.863226500Z",
     "start_time": "2023-05-08T11:22:37.228945800Z"
    }
   }
  },
  {
   "cell_type": "code",
   "execution_count": 5,
   "outputs": [],
   "source": [
    "feature1 = 10\n",
    "feature2 = 1\n",
    "gm4 = Pf.extract_two_features(feature1, feature2)\n",
    "# dim 1\n",
    "gm5 = gm4.extract_feature(0)\n",
    "gm6 = gm4.extract_feature(1)"
   ],
   "metadata": {
    "collapsed": false,
    "ExecuteTime": {
     "end_time": "2023-05-08T11:23:40.883250Z",
     "start_time": "2023-05-08T11:23:40.865228100Z"
    }
   }
  },
  {
   "cell_type": "code",
   "execution_count": 6,
   "outputs": [
    {
     "name": "stderr",
     "output_type": "stream",
     "text": [
      "C:\\TEMP\\ipykernel_22596\\1277855535.py:30: MatplotlibDeprecationWarning: The get_cmap function was deprecated in Matplotlib 3.7 and will be removed two minor releases later. Use ``matplotlib.colormaps[name]`` or ``matplotlib.colormaps.get_cmap(obj)`` instead.\n",
      "  cmap = plt.cm.get_cmap('Blues', 3)\n"
     ]
    },
    {
     "data": {
      "text/plain": "<matplotlib.colorbar.Colorbar at 0x14611f17190>"
     },
     "execution_count": 6,
     "metadata": {},
     "output_type": "execute_result"
    },
    {
     "data": {
      "text/plain": "<Figure size 432x288 with 3 Axes>",
      "image/png": "[encoded data removed]"
     },
     "metadata": {
      "needs_background": "light"
     },
     "output_type": "display_data"
    }
   ],
   "source": [
    "%matplotlib inline\n",
    "# Plot a grid\n",
    "fig = plt.figure()\n",
    "gs = GridSpec(4, 4)\n",
    "ax_scatter = fig.add_subplot(gs[1:4, 0:3])\n",
    "ax_hist_y = fig.add_subplot(gs[0, 0:3], sharex=ax_scatter)\n",
    "ax_hist_x = fig.add_subplot(gs[1:4, 3], sharey=ax_scatter)\n",
    "\n",
    "# lb, ub = gm5.interval()\n",
    "\n",
    "ax_hist_y.hist(pf[:, feature1], density=True, bins=100)\n",
    "lb, ub = ax_hist_y.get_xlim()\n",
    "x = np.linspace(lb, ub, num=1000)\n",
    "ax_hist_y.plot(x, gm5.pdf(x))\n",
    "# dim 2\n",
    "\n",
    "# lb, ub = gm6.interval()\n",
    "\n",
    "ax_hist_x.hist(pf[:, feature2], orientation='horizontal', density=True, bins=100)\n",
    "lb, ub = ax_hist_x.get_ylim()\n",
    "y = np.linspace(lb, ub, num=1000)\n",
    "ax_hist_x.plot(gm6.pdf(y), y)\n",
    "ax_hist_x.invert_yaxis()\n",
    "plt.yticks(rotation=270)\n",
    "# Joint distribution\n",
    "xx, yy = np.meshgrid(x, y)\n",
    "positions = np.vstack([xx.ravel(), yy.ravel()]).T\n",
    "pdf_values = gm4.pdf(positions).reshape(xx.shape)\n",
    "# Define colormap\n",
    "cmap = plt.cm.get_cmap('Blues', 3)\n",
    "colors = cmap(np.arange(15))\n",
    "# Modify alpha values to create a lighter colormap\n",
    "colors[:, -1] = np.linspace(0.3, 1, 15)\n",
    "# Create a new colormap using the modified colors\n",
    "from matplotlib.colors import ListedColormap\n",
    "\n",
    "light_cmap = ListedColormap(colors)\n",
    "c = ax_scatter.contourf(xx, yy, pdf_values, cmap=light_cmap, levels=25)\n",
    "plt.colorbar(c, cax=ax_scatter.inset_axes([0.9, 0.1, 0.03, 0.8]))"
   ],
   "metadata": {
    "collapsed": false,
    "ExecuteTime": {
     "end_time": "2023-05-08T11:23:41.849313300Z",
     "start_time": "2023-05-08T11:23:40.883250Z"
    }
   }
  }
 ],
 "metadata": {
  "kernelspec": {
   "display_name": "Python 3",
   "language": "python",
   "name": "python3"
  },
  "language_info": {
   "codemirror_mode": {
    "name": "ipython",
    "version": 2
   },
   "file_extension": ".py",
   "mimetype": "text/x-python",
   "name": "python",
   "nbconvert_exporter": "python",
   "pygments_lexer": "ipython2",
   "version": "2.7.6"
  }
 },
 "nbformat": 4,
 "nbformat_minor": 0
}
